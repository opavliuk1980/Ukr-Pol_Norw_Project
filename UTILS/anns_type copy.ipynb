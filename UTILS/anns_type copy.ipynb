{
 "cells": [
  {
   "cell_type": "code",
   "execution_count": 1,
   "id": "725b8f35-5203-4baa-817c-3b4eb721e416",
   "metadata": {},
   "outputs": [],
   "source": [
    "import logging;\n",
    "from sklearn.preprocessing import StandardScaler, MinMaxScaler\n",
    "import pandas as pd\n",
    "import numpy as np"
   ]
  },
  {
   "cell_type": "code",
   "execution_count": 3,
   "id": "fbea864d-393e-4b94-8ba3-094f9d849554",
   "metadata": {},
   "outputs": [],
   "source": [
    "\n",
    "def ImportStandardScalerDataFrame(data):  \n",
    "    scaler = StandardScaler()\n",
    "    scaled_df = scaler.fit_transform(data.to_numpy().data) \n",
    "    return scaled_df, scaler\n",
    "\n",
    "def ImportMinMaxScalerDataFrame(data): \n",
    "    scaler = MinMaxScaler()\n",
    "    scaled_df = scaler.fit_transform(np.array(data).reshape(-1, 1))#######\n",
    "    # print('scaler.data_max_',scaler.data_max_)\n",
    "    return scaled_df, scaler\n",
    "\n",
    "\n",
    "\n",
    "def prepare_RNN_datas(target_data, split_fraction = 0.8, n_steps = 5, n_features = 1 ):\n",
    "\n",
    "    # Підготовка даних для моделі RNN\n",
    "    X, y = [], []\n",
    "    for i in range(len(target_data)):\n",
    "      # Формування вхідних та вихідних даних\n",
    "        end_ix = i + n_steps  \n",
    "        if end_ix > len(target_data) - 1:\n",
    "            break\n",
    "        seq_x, seq_y = target_data[i:end_ix], target_data[end_ix]\n",
    "        X.append(seq_x)\n",
    "        y.append(seq_y)\n",
    "    X, y = np.array(X), np.array(y)\n",
    "\n",
    "    # Розділення на тренувальну та тестову вибірки\n",
    "    train_split = int(split_fraction * len(X))\n",
    "    X_train = X[:train_split]\n",
    "    y_train = y[:train_split]\n",
    "    X_test = X[train_split:]\n",
    "    y_test = y[train_split:]\n",
    "    X_pred = X[train_split:len(target_data)]\n",
    "    y_pred = y[train_split:len(target_data)]\n",
    "    \n",
    "#     print ('target_data',target_data)\n",
    "#     print('X.shape', X.shape, 'y.shape ', y.shape,'range(len(target_data))', range(len(target_data)),' target_data', target_data)\n",
    "#     print ('train_split',train_split)\n",
    "#     print('len(X),' ',len(y), ' ',int(split_fraction * len(X)',len(X),' ',len(y), ' ',int(split_fraction * len(X))) #4522   3617\n",
    "#     print('X_train',X_train.shape)#(3617, 5, 1)\n",
    "#     print('y_train',y_train.shape)#(3617, 1)\n",
    "#     print('X_test',X_test.shape)#(905, 5, 1)\n",
    "#     print('y_test',y_test.shape)#(905, 1)\n",
    "    \n",
    "    return X, X_train, y_train, X_test, y_test, X_pred, y_pred"
   ]
  },
  {
   "cell_type": "code",
   "execution_count": null,
   "id": "522eaa40-0e11-4000-b0ac-67ca4f33df68",
   "metadata": {},
   "outputs": [],
   "source": [
    "\n"
   ]
  },
  {
   "cell_type": "code",
   "execution_count": null,
   "id": "e40c1f54-7ab3-4103-b35c-e145ca4ac845",
   "metadata": {},
   "outputs": [],
   "source": []
  },
  {
   "cell_type": "code",
   "execution_count": null,
   "id": "d4a34ec4-5141-4ec5-b84f-28438d63ff4f",
   "metadata": {},
   "outputs": [],
   "source": []
  }
 ],
 "metadata": {
  "kernelspec": {
   "display_name": "Python 3 (ipykernel)",
   "language": "python",
   "name": "python3"
  },
  "language_info": {
   "codemirror_mode": {
    "name": "ipython",
    "version": 3
   },
   "file_extension": ".py",
   "mimetype": "text/x-python",
   "name": "python",
   "nbconvert_exporter": "python",
   "pygments_lexer": "ipython3",
   "version": "3.10.9"
  }
 },
 "nbformat": 4,
 "nbformat_minor": 5
}
