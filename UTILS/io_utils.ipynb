{
 "cells": [
  {
   "cell_type": "code",
   "execution_count": 1,
   "metadata": {},
   "outputs": [],
   "source": [
    "import pandas as pd;\n",
    "import matplotlib.pyplot as plt;\n",
    "\n",
    "#DEFAULT_SOURCES_PATH = 'data/Tomasz_Data/Work_Datas/';\n",
    "#DEFAULT_TARGET_PATH = 'OUTPUT/';\n",
    "\n",
    "def df_from_csv(file_name, path = 'data/Tomasz_Data/Work_Datas/', delimiter = \",\"):\n",
    "    return pd.read_csv(path+file_name, delimiter=delimiter, index_col=False, low_memory=False);\n",
    "\n",
    "def df_to_csv(df, file_name, path = 'OUTPUT/', sep = \",\"):\n",
    "    return df.to_csv(path+file_name, index = False, sep = sep);\n",
    "\n",
    "def plot_save_fig(file_name, fig_names = None, path = 'OUTPUT/', dpi =600):\n",
    "    if not fig_names: \n",
    "        return plt.savefig(path+file_name, dpi = dpi);\n",
    "    for name in fig_names:\n",
    "        plt.figure(name)\n",
    "        plt.savefig(path + name + '_' + file_name, dpi = dpi);\n"
   ]
  },
  {
   "cell_type": "code",
   "execution_count": null,
   "metadata": {},
   "outputs": [],
   "source": [
    "import os\n",
    "\n",
    "def print_splittering_results(dfs):\n",
    "    for k, v in dfs.items():\n",
    "        print(k, len(v), list(map(lambda x: x.shape[0], v)));\n",
    "    return dfs\n",
    "\n",
    "def save_splitterings_to_file(dfs, file_sufix=\"origi_file_name\", path = 'OUTPUT/SEGMENTS/'):\n",
    "    os.makedirs(path, exist_ok=True);\n",
    "    for k, v in dfs.items():\n",
    "        df = pd.concat(v);\n",
    "        df_to_csv(df, \"\".join([k, file_sufix, \".csv\"]), path, sep = \",\")  "
   ]
  },
  {
   "cell_type": "code",
   "execution_count": null,
   "metadata": {},
   "outputs": [],
   "source": [
    "# def collect_segments_statistics(dfs, statistics_df = pd.DataFrame()):\n",
    "#     dfs_result = []\n",
    "#     for df in dfs:\n",
    "#         df_tmp = get_single_segment_statistics(df)\n",
    "#         dfs_result.append(df_tmp)\n",
    "#     df = pd.concat(dfs_result); \n",
    "#     df.index = list(range(0,df.shape[0]))\n",
    "#     return df;\n",
    "\n",
    "# def get_single_segment_statistics(df):\n",
    "#     df1 = pd.DataFrame();\n",
    "#     df1.loc[0,'Segment'] = df['Current segment'].values[0]\n",
    "#     df1.loc[0,'Mass'] = df['Mass'].values[0]\n",
    "#     df1.loc[0,'Samples count'] = df.shape[0]\n",
    "\n",
    "#     tmp_column = pd.to_datetime(df['Timestamp'], format='%Y/%m/%d %H:%M:%S').values\n",
    "#     t1 = pd.Timestamp(tmp_column[0]);\n",
    "#     df1.loc[0,'Day hour'] = t1.hour #* 60 + t1.minute;\n",
    "#     t_min = pd.Timestamp(tmp_column.min())\n",
    "#     t_max = pd.Timestamp(tmp_column.max())\n",
    "#     df1.loc[0,'Duration'] =(t_max-t_min).seconds\n",
    "#     tmp_column = df['Battery cell voltage'].values\n",
    "#     df1.loc[0,'Start segment voltage'] = tmp_column[0]\n",
    "#     df1.loc[0,'End segment voltage'] = tmp_column[-1]\n",
    "#     df1.loc[0,'Voltage delta'] = tmp_column[-1]-tmp_column[0]\n",
    "#     return df1;\n",
    "\n"
   ]
  }
 ],
 "metadata": {
  "kernelspec": {
   "display_name": "Python 3 (ipykernel)",
   "language": "python",
   "name": "python3"
  },
  "language_info": {
   "codemirror_mode": {
    "name": "ipython",
    "version": 3
   },
   "file_extension": ".py",
   "mimetype": "text/x-python",
   "name": "python",
   "nbconvert_exporter": "python",
   "pygments_lexer": "ipython3",
   "version": "3.10.13"
  }
 },
 "nbformat": 4,
 "nbformat_minor": 4
}
