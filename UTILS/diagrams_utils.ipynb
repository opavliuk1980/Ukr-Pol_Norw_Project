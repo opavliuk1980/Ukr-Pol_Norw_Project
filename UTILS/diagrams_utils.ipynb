{
 "cells": [
  {
   "cell_type": "code",
   "execution_count": 1,
   "metadata": {},
   "outputs": [],
   "source": [
    "import numpy as np\n",
    "import pandas as pd\n",
    "# import datetime\n",
    "import matplotlib\n",
    "import matplotlib.pyplot as plt\n",
    "matplotlib.style.use(list(plt.style.available)[11])\n",
    "# %matplotlib inline\n",
    "\n",
    "def build_histogram(column_values, bins_count):\n",
    "    min_val = np.min(column_values);\n",
    "    max_val = np.max(column_values); \n",
    "    step = (max_val - min_val) / bins_count;\n",
    "    bins = np.arange(min_val, max_val, step);\n",
    "    return np.histogram(column_values, bins);\n",
    "\n",
    "def plot_all(df_before, df_after, column_names, trunc_A, trunc_B):\n",
    "    for col in column_names:\n",
    "        plt.figure(col)\n",
    "        plt.plot(df_before[[col]][trunc_A:trunc_B])\n",
    "        plt.plot(df_after[[col]][trunc_A:trunc_B])\n",
    "        plt.title(str(col))\n",
    "        \n",
    "def plot_all_dfs(dfs, col_names, trunc_A=0, trunc_B=-1, legends=None):\n",
    "    for col in col_names:\n",
    "        plt.figure(col);\n",
    "        plt.title(str(col));       \n",
    "        plt.xlabel('Sample number');\n",
    "        plt.ylabel(col + ' value');\n",
    "        for df in dfs:\n",
    "            print(df.shape);\n",
    "            plt.plot(df[col][trunc_A:trunc_B])\n",
    "#             plt.plot(df[col])\n",
    "        plt.legend(legends);\n",
    "    \n",
    "def plot_all_dataframe(InputDataFrame, ALL_COLUMN_NAMES,RORMIRNIST_NAME):\n",
    "    for i in range(1,len(ALL_COLUMN_NAMES)):\n",
    "        # df_origin1.loc[:,ALL_COLUMN_NAMES[i]].plot()\n",
    "        InputDataFrame.loc[:,ALL_COLUMN_NAMES[i]].plot()\n",
    "        plt.legend( [ALL_COLUMN_NAMES[i]]);\n",
    "        plt.xlabel = ALL_COLUMN_NAMES[i]\n",
    "        plt.ylabel = str(RORMIRNIST_NAME[i])\n",
    "        plt.grid(True)\n",
    "        # plt.figure(ALL_COLUMN_NAMES[i])\n",
    "        # print(RORMIRNIST_NAME[i])\n",
    "        plt.show()"
   ]
  },
  {
   "cell_type": "code",
   "execution_count": null,
   "metadata": {},
   "outputs": [],
   "source": []
  }
 ],
 "metadata": {
  "kernelspec": {
   "display_name": "Python 3 (ipykernel)",
   "language": "python",
   "name": "python3"
  },
  "language_info": {
   "codemirror_mode": {
    "name": "ipython",
    "version": 3
   },
   "file_extension": ".py",
   "mimetype": "text/x-python",
   "name": "python",
   "nbconvert_exporter": "python",
   "pygments_lexer": "ipython3",
   "version": "3.10.9"
  }
 },
 "nbformat": 4,
 "nbformat_minor": 4
}
