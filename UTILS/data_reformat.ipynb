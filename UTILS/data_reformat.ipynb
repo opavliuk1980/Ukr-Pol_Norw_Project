{
 "cells": [
  {
   "cell_type": "code",
   "execution_count": 3,
   "metadata": {},
   "outputs": [],
   "source": [
    "import pandas as pd\n",
    "import math\n",
    "from functools import reduce;\n",
    "\n",
    "\n",
    "\n",
    "def segment_changes(df, column_name = 'Current segment'):\n",
    "    def append_list(l, v):\n",
    "        if len(l) == 0 or l[-1][1] != v[1]: l.append(v);\n",
    "        return l;\n",
    "\n",
    "    segments_samples = df[column_name].array;\n",
    "    return reduce(append_list, list(enumerate(segments_samples)), []);\n",
    "\n",
    "def split_data_by(df, column_name = 'Current segment', dfs = [],  label = \"\"):\n",
    "    seg_changes = segment_changes(df, column_name);\n",
    "    start_seg, cur_seg = seg_changes[0];\n",
    "    n = 0;\n",
    "    for end_seg, new_seg in seg_changes[1:]:\n",
    "#        seg_key = \"\".join(['seg'+str(cur_seg), label]);\n",
    "        new_df = df[start_seg:end_seg];\n",
    "#        new_df[column_name] = seg_key + \"_\" + str(n);\n",
    "        n += 1;\n",
    "        dfs.append(new_df)\n",
    "        cur_seg, start_seg = new_seg, end_seg;\n",
    "    return dfs;\n",
    "\n",
    "def group_data_by(df, column_name = 'Current segment', dfs = {},  label = \"\"):\n",
    "    seg_changes = segment_changes(df, column_name);\n",
    "    start_seg, cur_seg = seg_changes[0];\n",
    "    n = 0;\n",
    "    for end_seg, new_seg in seg_changes[1:]:\n",
    "        seg_key = \"\".join(['seg'+str(cur_seg), label]);\n",
    "        new_df = df[start_seg:end_seg];\n",
    "#        new_df[column_name] = seg_key + \"_\" + str(n);\n",
    "        n += 1;\n",
    "        if seg_key in dfs.keys():\n",
    "            dfs[seg_key].append(new_df);\n",
    "        else:\n",
    "            dfs[seg_key] = [new_df,];\n",
    "        cur_seg, start_seg = new_seg, end_seg;\n",
    "    return dfs;"
   ]
  }
 ],
 "metadata": {
  "kernelspec": {
   "display_name": "Python 3 (ipykernel)",
   "language": "python",
   "name": "python3"
  },
  "language_info": {
   "codemirror_mode": {
    "name": "ipython",
    "version": 3
   },
   "file_extension": ".py",
   "mimetype": "text/x-python",
   "name": "python",
   "nbconvert_exporter": "python",
   "pygments_lexer": "ipython3",
   "version": "3.10.9"
  }
 },
 "nbformat": 4,
 "nbformat_minor": 4
}
