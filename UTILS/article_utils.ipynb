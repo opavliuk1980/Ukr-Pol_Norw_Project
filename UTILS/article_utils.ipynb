{
 "cells": [
  {
   "cell_type": "code",
   "execution_count": 1,
   "metadata": {},
   "outputs": [],
   "source": [
    "import pandas as pd\n",
    "\n",
    "def for_article_description_df(df,column_names=[], table_name_params=''):\n",
    "\n",
    "    df_standard_deviationd = df[column_names].std().values\n",
    "    df_dispersion = df[column_names].var().values\n",
    "    df_min_value = df[column_names].min().values\n",
    "    df_max_value = df[column_names].max().values\n",
    "    df_swing = (df[column_names].max()-df[column_names].min()).values\n",
    "    df_mean_absolute_linear_deviation = df[column_names].mad().values\n",
    "\n",
    "#   mean_square_deviation = math.sqrt(dispersion.values)\n",
    "\n",
    "    funcs_table_df = pd.DataFrame({\n",
    "        \"parameters\": column_names,\n",
    "\n",
    "        table_name_params+ \" standard deviation\": df_standard_deviationd,\n",
    "        table_name_params+ \" dispersion\": df_dispersion, \n",
    "        table_name_params+ \" min value\":df_min_value,\n",
    "        table_name_params+ \" max value\":df_max_value,\n",
    "        table_name_params+ \" swing\":df_swing,\n",
    "        table_name_params+ \" mean absolute linear deviation\":df_mean_absolute_linear_deviation,\n",
    "\n",
    "#     table_name_params+\" mean square deviation\":df_mean_square_deviation,\n",
    "#     table_name_params+\" mean square deviation\":mean_square_deviation,\n",
    "        }).set_index(\"parameters\");\n",
    "# df_stat.loc[\"standard deviation\"] = df[column_names].std().values\n",
    "# df_stat\n",
    "    funcs_table_df\n",
    "    \n",
    "    return funcs_table_df\n",
    "\n",
    "\n",
    "def correlation_coef(df,correlation_name, column_names):\n",
    "    print(correlation_name)\n",
    "    corr = df[column_names].corr(correlation_name, 2)\n",
    "    # corr.style.background_gradient().set_precision(2)# кольорова матриця корелції\n",
    "    corr.style.background_gradient().background_gradient(axis=0)\n",
    "    corr.style.background_gradient(cmap='coolwarm')\n",
    "    return corr.style.background_gradient(cmap='coolwarm') "
   ]
  },
  {
   "cell_type": "code",
   "execution_count": null,
   "metadata": {},
   "outputs": [],
   "source": []
  },
  {
   "cell_type": "code",
   "execution_count": null,
   "metadata": {},
   "outputs": [],
   "source": []
  }
 ],
 "metadata": {
  "kernelspec": {
   "display_name": "Python 3 (ipykernel)",
   "language": "python",
   "name": "python3"
  },
  "language_info": {
   "codemirror_mode": {
    "name": "ipython",
    "version": 3
   },
   "file_extension": ".py",
   "mimetype": "text/x-python",
   "name": "python",
   "nbconvert_exporter": "python",
   "pygments_lexer": "ipython3",
   "version": "3.10.13"
  }
 },
 "nbformat": 4,
 "nbformat_minor": 4
}
